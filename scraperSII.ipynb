{
 "cells": [
  {
   "cell_type": "code",
   "execution_count": 1,
   "metadata": {},
   "outputs": [],
   "source": [
    "from bs4 import BeautifulSoup\n",
    "import requests\n",
    "from lxml import etree\n",
    "from datetime import datetime, date\n",
    "import re\n",
    "import pandas as pd\n",
    "\n",
    "\n",
    "import warnings\n",
    "warnings.filterwarnings(\"ignore\")"
   ]
  },
  {
   "cell_type": "code",
   "execution_count": 2,
   "metadata": {},
   "outputs": [],
   "source": [
    "# Obtención de los urls para hacer scraping\n",
    "year = date.today().year\n",
    "anios = list(range(2014,year + 1,1))\n",
    "urls_uf = [f'https://www.sii.cl/valores_y_fechas/uf/uf{anio}.htm' for anio in anios]\n",
    "urls_dolar = [f'https://www.sii.cl/valores_y_fechas/dolar/dolar{anio}.htm' for anio in anios]"
   ]
  },
  {
   "cell_type": "code",
   "execution_count": 3,
   "metadata": {},
   "outputs": [],
   "source": [
    "# Extraccion de datos\n",
    "data_uf = pd.DataFrame(columns=['Día','Mes','UF'])\n",
    "data_dolar = pd.DataFrame(columns=['Día','Mes','Dolar'])\n",
    "\n",
    "for anio in anios:\n",
    "    page_uf = requests.get(f'https://www.sii.cl/valores_y_fechas/uf/uf{anio}.htm')\n",
    "    page_dolar = requests.get(f'https://www.sii.cl/valores_y_fechas/dolar/dolar{anio}.htm')\n",
    "    soup_uf = BeautifulSoup(page_uf.text,'html.parser')\n",
    "    soup_dolar = BeautifulSoup(page_dolar.text,'html.parser')\n",
    "    df_uf = pd.read_html(str(soup_uf.find('table',{'id':'table_export'})))[0].melt(id_vars=[\"Día\"], var_name=\"Mes\", value_name=\"UF\")\n",
    "    df_dolar = pd.read_html(str(soup_dolar.find('table',{'id':'table_export'})))[0].melt(id_vars=[\"Día\"], var_name=\"Mes\", value_name=\"Dolar\")\n",
    "    data_uf = pd.concat([data_uf,df_uf.dropna()],ignore_index=False)\n",
    "    data_dolar = pd.concat([data_dolar,df_dolar.dropna()],ignore_index=False)"
   ]
  },
  {
   "cell_type": "code",
   "execution_count": 4,
   "metadata": {},
   "outputs": [],
   "source": [
    "# Falta corregir el tipo de dato de dolar y UF"
   ]
  }
 ],
 "metadata": {
  "kernelspec": {
   "display_name": "myenv",
   "language": "python",
   "name": "python3"
  },
  "language_info": {
   "codemirror_mode": {
    "name": "ipython",
    "version": 3
   },
   "file_extension": ".py",
   "mimetype": "text/x-python",
   "name": "python",
   "nbconvert_exporter": "python",
   "pygments_lexer": "ipython3",
   "version": "3.13.1"
  }
 },
 "nbformat": 4,
 "nbformat_minor": 2
}
